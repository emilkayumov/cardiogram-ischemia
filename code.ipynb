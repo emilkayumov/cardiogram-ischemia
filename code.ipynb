{
 "cells": [
  {
   "cell_type": "code",
   "execution_count": 87,
   "metadata": {
    "collapsed": false,
    "nbpresent": {
     "id": "2d676ae2-a7dd-4e86-94c4-b28350909aed"
    }
   },
   "outputs": [],
   "source": [
    "%matplotlib inline\n",
    "\n",
    "import os\n",
    "import matplotlib.pyplot as plt\n",
    "import numpy as np\n",
    "import pandas as pd\n",
    "\n",
    "from scipy.io.wavfile import read as wav_read\n",
    "from scipy.fftpack import fft\n",
    "\n",
    "from sklearn.metrics import accuracy_score, roc_auc_score\n",
    "from sklearn.ensemble import RandomForestClassifier\n",
    "from sklearn.preprocessing import StandardScaler\n",
    "from sklearn.cross_validation import LabelKFold\n",
    "from sklearn.feature_extraction.text import CountVectorizer"
   ]
  },
  {
   "cell_type": "markdown",
   "metadata": {},
   "source": [
    "Подготовим функцию для валидации. В качестве основной метрики будем использовать усреднённую точность классификации по всем людям с подобранным порогом бинаризации (честнее подбирать порог не на тестовой выборке, однако в таком случае размер датасета стал бы ещё меньше), то есть для каждого человека для всех его кардиограмм считается вероятность наличия болезни, вероятности для каждого человека усредняются и только потом это значение для всех людей бинаризуется для оценки точности. Дополнительно выведем среднюю точность по сигналам и AUC. Используем 20 фолдов разбиения людей для обучения/предсказания. В качестве базового алгоритма используем случайный лес из 100 деревьев с энтропийным критерием построения вершин. "
   ]
  },
  {
   "cell_type": "code",
   "execution_count": 88,
   "metadata": {
    "collapsed": true
   },
   "outputs": [],
   "source": [
    "def validate(data, labels, print_result=True):\n",
    "    cv = LabelKFold(people, n_folds=20)\n",
    "    pred = np.zeros(labels.shape)\n",
    "\n",
    "    for itrain, itest in cv:\n",
    "        clf = RandomForestClassifier(n_estimators=100, criterion='entropy', n_jobs=-1, random_state=1)\n",
    "        clf.fit(data[itrain, :], labels[itrain])\n",
    "        pred[itest] = clf.predict_proba(data[itest, :])[:, 1]\n",
    "\n",
    "    if print_result:\n",
    "        print 'auc:', roc_auc_score(labels, pred)\n",
    "        print ''\n",
    "\n",
    "    tmp = pd.DataFrame({'people': people, 'true': labels, 'pred': pred, 'pred_bin': 0+(pred>0.5)})\n",
    "    tmp['q'] = tmp.true == tmp.pred_bin\n",
    "\n",
    "    if print_result:\n",
    "        print 'acc by signals with thr = 0.5:', tmp.q.mean()\n",
    "        print 'acc by people with thr = 0.5:', tmp.groupby('people')['q'].mean().mean()\n",
    "        print ''\n",
    "\n",
    "    lsp = np.linspace(0, 1, 100)\n",
    "    acc = [np.mean(np.abs((tmp.pred > thr) == tmp.true)) for thr in lsp]\n",
    "    if print_result:\n",
    "        print 'max acc by signals:', max(acc), '| thr:', lsp[np.argmax(acc)]\n",
    "    \n",
    "    acc = []\n",
    "    for thr in lsp:\n",
    "        tmp['q'] = tmp.true == (tmp.pred > thr)\n",
    "        acc.append(tmp.groupby('people')['q'].mean().mean())\n",
    "    if print_result:\n",
    "        print 'max acc by people:', max(acc), '| thr:', lsp[np.argmax(acc)]\n",
    "    else:\n",
    "        return max(acc)"
   ]
  },
  {
   "cell_type": "markdown",
   "metadata": {
    "nbpresent": {
     "id": "52fd8b41-ed49-49be-8364-1fe32872a868"
    }
   },
   "source": [
    "Считаем все данные. Исключим из выборки короткие сигналы (длина менее 20000), так как из коротких замеров сложно извлечь достаточно информации."
   ]
  },
  {
   "cell_type": "code",
   "execution_count": 89,
   "metadata": {
    "collapsed": false,
    "nbpresent": {
     "id": "9f84cd1f-d8f3-4056-bf74-ea77acb3b277"
    }
   },
   "outputs": [],
   "source": [
    "people = []\n",
    "signals = []\n",
    "labels = []\n",
    "\n",
    "pwd = 'ibs_true/'\n",
    "files = os.listdir(pwd)\n",
    "for f in files:\n",
    "    w = wav_read(pwd + f)[1]\n",
    "    if len(w) < 20000:\n",
    "        # filter some short signals\n",
    "        continue\n",
    "    people.append(int(f.split('_')[0]))\n",
    "    signals.append(w)\n",
    "    labels.append(1)\n",
    "    \n",
    "pwd = 'ibs_false/'\n",
    "files = os.listdir(pwd)\n",
    "for f in files:\n",
    "    w = wav_read(pwd + f)[1]\n",
    "    if len(w) < 20000:\n",
    "        # filter some short signals\n",
    "        continue\n",
    "    people.append(int(f.split('_')[0]))\n",
    "    signals.append(w)\n",
    "    labels.append(0)\n",
    "    \n",
    "people = np.array(people)\n",
    "signals = np.array(signals)\n",
    "labels = np.array(labels)"
   ]
  },
  {
   "cell_type": "markdown",
   "metadata": {},
   "source": [
    "## 1. Базовое решение"
   ]
  },
  {
   "cell_type": "markdown",
   "metadata": {
    "nbpresent": {
     "id": "8d395f27-fabc-4108-8f49-0e8e9440b5ea"
    }
   },
   "source": [
    "Датасет состоит из 3 частей:\n",
    "\n",
    "- 500 усреднённых коэффициентов Фурье, посчитанных по непересекающимся окнам длины 1000 (столько окон, сколько возможно).\n",
    "- 20 наибольших сигнулярных чисел матрицы из предыдущего пунта (в строках 500 коэффициентов Фурье, количество строк зависит от длины сигналов, поэтому именно 20).\n",
    "- Элементарные статистики по сигналам вроде среднего значения, разброса, доли времени, когда сигнал больше или меньше некоторого порога. 10 штук.\n",
    "\n",
    "Всего 530 признаков."
   ]
  },
  {
   "cell_type": "code",
   "execution_count": 4,
   "metadata": {
    "collapsed": false,
    "nbpresent": {
     "id": "95785b61-e9cf-411d-bddf-c7adc88e1933"
    }
   },
   "outputs": [],
   "source": [
    "count_fft_value = 500\n",
    "count_singular_value = 20\n",
    "count_statistics = 10\n",
    "\n",
    "data = np.empty((len(labels), count_fft_value + count_singular_value + count_statistics))\n",
    "\n",
    "for i in range(len(signals)):\n",
    "    \n",
    "    # simple fft\n",
    "    count = len(signals[i]) / (count_fft_value * 2)\n",
    "    mat = np.array(signals[i][: 2 * count_fft_value * count]).reshape((count, 2 * count_fft_value))\n",
    "    mat_fft = np.empty((count, count_fft_value))\n",
    "    for j in range(count):\n",
    "        mat_fft[j] = np.abs(fft(mat[j])[:count_fft_value])\n",
    "    data[i, :count_fft_value] = mat_fft.mean(axis=0)\n",
    "\n",
    "    _, s, _ = np.linalg.svd(mat)\n",
    "    data[i, count_fft_value : count_fft_value + count_singular_value] = s[:count_singular_value]\n",
    "    \n",
    "    statistics = []\n",
    "    statistics.append(np.mean(signals[i] > 0))\n",
    "    statistics.append(np.mean(signals[i] > np.mean(signals[i])))\n",
    "    statistics.append(np.mean(signals[i] > np.mean(signals[i]) + np.std(signals[i])))\n",
    "    statistics.append(np.mean(signals[i] < np.mean(signals[i]) - np.std(signals[i])))\n",
    "    statistics.append(np.mean(signals[i] > np.mean(signals[i]) + 2 * np.std(signals[i])))\n",
    "    statistics.append(np.mean(signals[i] < np.mean(signals[i]) - 2 * np.std(signals[i])))\n",
    "    statistics.append(np.mean(signals[i]))\n",
    "    statistics.append(np.std(signals[i]))\n",
    "    statistics.append(np.mean((signals[i] < np.mean(signals[i]) + np.std(signals[i])) & (signals[i] > np.mean(signals[i]) - np.std(signals[i]))))\n",
    "    statistics.append(np.mean((signals[i] < np.mean(signals[i]) + 2 * np.std(signals[i])) & (signals[i] > np.mean(signals[i]) - 2 * np.std(signals[i]))))\n",
    "    \n",
    "    data[i, count_fft_value + count_singular_value :] = np.array(statistics)"
   ]
  },
  {
   "cell_type": "code",
   "execution_count": 8,
   "metadata": {
    "collapsed": false
   },
   "outputs": [
    {
     "name": "stdout",
     "output_type": "stream",
     "text": [
      "auc: 0.759389201272\n",
      "\n",
      "acc by signals with thr = 0.5: 0.785596299967\n",
      "acc by people with thr = 0.5: 0.687313281238\n",
      "\n",
      "max acc by signals: 0.792864222002 | thr: 0.656565656566\n",
      "max acc by people: 0.75197378075 | thr: 0.323232323232\n"
     ]
    }
   ],
   "source": [
    "validate(data, labels)"
   ]
  },
  {
   "cell_type": "markdown",
   "metadata": {},
   "source": [
    "То есть максимально полученная усреднённая точность: 75.2%."
   ]
  },
  {
   "cell_type": "code",
   "execution_count": 9,
   "metadata": {
    "collapsed": true
   },
   "outputs": [],
   "source": [
    "data_fft_simple = data[:, :500]\n",
    "data_singular_simple = data[:, 500:520]"
   ]
  },
  {
   "cell_type": "markdown",
   "metadata": {},
   "source": [
    "Только на коэффициентах Фурье:"
   ]
  },
  {
   "cell_type": "code",
   "execution_count": 10,
   "metadata": {
    "collapsed": false
   },
   "outputs": [
    {
     "name": "stdout",
     "output_type": "stream",
     "text": [
      "auc: 0.747036243065\n",
      "\n",
      "acc by signals with thr = 0.5: 0.780640898579\n",
      "acc by people with thr = 0.5: 0.693222638521\n",
      "\n",
      "max acc by signals: 0.787578460522 | thr: 0.636363636364\n",
      "max acc by people: 0.729167782082 | thr: 0.333333333333\n"
     ]
    }
   ],
   "source": [
    "validate(data_fft_simple, labels)"
   ]
  },
  {
   "cell_type": "markdown",
   "metadata": {
    "collapsed": true
   },
   "source": [
    "## 2. Признаки Успенского"
   ]
  },
  {
   "cell_type": "markdown",
   "metadata": {},
   "source": [
    "Реализуем функцию для поиска пиков на кардиограмме. Используем следующую эвритику: пик – это точка, значение в которой не менее 0.7 от максимума в окрестности 700 исследуемого окна, при этом слева и справа от пика есть хотя бы одно отрицательное значение. Использовалось окно длиной 300, шаг 150. То есть:\n",
    "\n",
    "- Выделяется очередное окно длиной 300.\n",
    "- Вычисляется максимальноее значение сигнала в окрестности 700 окна (длиной 1700=300+700+700).\n",
    "- В окне находится максимальное значение сигнала.\n",
    "- Если это значение более 0.7 от найденного ранее максимума, слева и справа от окна есть отрицательные значения, то точка считается пиком.\n",
    "\n",
    "Всего 252 признака."
   ]
  },
  {
   "cell_type": "code",
   "execution_count": 90,
   "metadata": {
    "collapsed": false
   },
   "outputs": [],
   "source": [
    "def find_maximums(signal, window, step):\n",
    "    left = 0\n",
    "    right = window\n",
    "    inds = []\n",
    "    \n",
    "    while right <= len(signal):\n",
    "        f = False\n",
    "        part = signal[left:right]\n",
    "        threshold = np.max(signal[max(0, left - 700):min(len(signal), right + 700)]) * 0.7\n",
    "        if any(part > threshold):\n",
    "            max_ind = np.argmax(part)\n",
    "            if any(part[:max_ind] < 0) and any(part[max_ind:] < 0):\n",
    "                if not inds or inds[-1] != max_ind + left:\n",
    "                    f = True\n",
    "                    inds.append(max_ind + left)\n",
    "                    left += window\n",
    "                    right += window\n",
    "        if not f:\n",
    "            left += step\n",
    "            right += step\n",
    "    return np.array(inds)"
   ]
  },
  {
   "cell_type": "markdown",
   "metadata": {},
   "source": [
    "Пример выделения пиков на кардиограмме:"
   ]
  },
  {
   "cell_type": "code",
   "execution_count": 91,
   "metadata": {
    "collapsed": false
   },
   "outputs": [
    {
     "data": {
      "image/png": "[encoded data removed]",
      "text/plain": [
       "<matplotlib.figure.Figure at 0x16cbabf10>"
      ]
     },
     "metadata": {},
     "output_type": "display_data"
    }
   ],
   "source": [
    "right = 3000\n",
    "inds = find_maximums(signals[0], window=300, step=150)\n",
    "inds = [i for i in inds if i < right]\n",
    "plt.figure(figsize=(10, 5))\n",
    "plt.plot(signals[0][:right])\n",
    "for i in inds:\n",
    "    plt.plot([i, i], [min(signals[0][:right]), max(signals[0][:right])], 'r')\n",
    "plt.show()"
   ]
  },
  {
   "cell_type": "markdown",
   "metadata": {},
   "source": [
    "Естественно, на шумовых кардиограммах получается некорректный результат."
   ]
  },
  {
   "cell_type": "markdown",
   "metadata": {},
   "source": [
    "Зная местоположения пиков кардиграмм, вычислим признаки Успенского (вычисляются изменения расстояний между пиками, изменений высоты пиков и угла наклона между пиками, эти три величины кодируются одним словом и для каждого человека считается количество каждого из 6 возможных слов, подробнее: http://www.machinelearning.ru/wiki/images/6/62/Voron-2014-task-ekg-about.pdf). "
   ]
  },
  {
   "cell_type": "code",
   "execution_count": 92,
   "metadata": {
    "collapsed": false
   },
   "outputs": [],
   "source": [
    "def make_features(signal, inds, window):\n",
    "    R = []\n",
    "    T = inds[1:] - inds[:-1]\n",
    "    alpha = []\n",
    "    \n",
    "    for i, x in enumerate(inds[:-1]):\n",
    "        left = max(0, x - window / 2)\n",
    "        right = min(len(signal), x + window / 2)\n",
    "        min_value = np.min(signal[left:right])\n",
    "        max_value = signal[x]\n",
    "        R.append(float(max_value) - float(min_value))\n",
    "        alpha.append(np.arctan(float(R[-1]) / float(T[i])))\n",
    "        \n",
    "    R = np.array(R)\n",
    "    alpha = np.array(alpha)\n",
    "    \n",
    "    dR = ((np.sign(R[1:] - R[:-1]) + 1) / 2).astype(int)\n",
    "    dT = ((np.sign(T[1:] - T[:-1]) + 1) / 2).astype(int)\n",
    "    dalpha = ((np.sign(alpha[1:] - alpha[:-1]) + 1) / 2).astype(int)\n",
    "    \n",
    "    words = []\n",
    "    for i in range(len(dR)):\n",
    "        words.append(str(dR[i]) + str(dT[i]) + str(dalpha[i]))\n",
    "\n",
    "    return words"
   ]
  },
  {
   "cell_type": "code",
   "execution_count": 93,
   "metadata": {
    "collapsed": false
   },
   "outputs": [],
   "source": [
    "window = 300\n",
    "step = 150\n",
    "\n",
    "corpus = []\n",
    "\n",
    "for signal in signals:\n",
    "    inds = find_maximums(signal=signal, window=window, step=step)\n",
    "    words = make_features(signal=signal, inds=inds, window=window)\n",
    "    corpus.append(words)"
   ]
  },
  {
   "cell_type": "markdown",
   "metadata": {},
   "source": [
    "Кроме 3-грамм возьмём и 2-граммы."
   ]
  },
  {
   "cell_type": "code",
   "execution_count": 94,
   "metadata": {
    "collapsed": false
   },
   "outputs": [],
   "source": [
    "corpus_s = [' '.join(x) for x in corpus]\n",
    "vectorizer = CountVectorizer(ngram_range=(2, 3))\n",
    "data = vectorizer.fit_transform(corpus_s).todense().astype(float)"
   ]
  },
  {
   "cell_type": "code",
   "execution_count": 95,
   "metadata": {
    "collapsed": true
   },
   "outputs": [],
   "source": [
    "scaler = StandardScaler()\n",
    "data = scaler.fit_transform(data)"
   ]
  },
  {
   "cell_type": "code",
   "execution_count": 96,
   "metadata": {
    "collapsed": false
   },
   "outputs": [
    {
     "name": "stdout",
     "output_type": "stream",
     "text": [
      "auc: 0.684496055763\n",
      "\n",
      "acc by signals with thr = 0.5: 0.767756854972\n",
      "acc by people with thr = 0.5: 0.62652906147\n",
      "\n",
      "max acc by signals: 0.780640898579 | thr: 0.636363636364\n",
      "max acc by people: 0.774790132164 | thr: 0.232323232323\n"
     ]
    }
   ],
   "source": [
    "validate(data, labels)"
   ]
  },
  {
   "cell_type": "markdown",
   "metadata": {
    "collapsed": true
   },
   "source": [
    "То есть максимальная точность, усреднённая по людям составила 77.5%"
   ]
  },
  {
   "cell_type": "code",
   "execution_count": 97,
   "metadata": {
    "collapsed": true
   },
   "outputs": [],
   "source": [
    "data_uspenskii = data"
   ]
  },
  {
   "cell_type": "markdown",
   "metadata": {},
   "source": [
    "## 3. Статистики по пикам"
   ]
  },
  {
   "cell_type": "markdown",
   "metadata": {},
   "source": [
    "Построим признаки по базовым статистикам, которые можно извлечь, зная местоположения пиков.\n",
    "\n",
    "Средние значения, среднеквадратичные отклонения, минимумы, максимумы высот пиков, расстояний между пиками, углов и их всевозможных отношений.\n",
    "\n",
    "Всего 24 признака."
   ]
  },
  {
   "cell_type": "code",
   "execution_count": 19,
   "metadata": {
    "collapsed": false
   },
   "outputs": [],
   "source": [
    "window = 300\n",
    "step = 150\n",
    "\n",
    "data = []\n",
    "for signal in signals:\n",
    "    features = []\n",
    "    inds = find_maximums(signal=signal, window=window, step=step)\n",
    "    \n",
    "    R = []\n",
    "    T = np.array(inds[1:] - inds[:-1], dtype=float)\n",
    "    alpha = []\n",
    "    \n",
    "    for i, x in enumerate(inds[:-1]):\n",
    "        left = max(0, x - window / 2)\n",
    "        right = min(len(signal), x + window / 2)\n",
    "        min_value = np.min(signal[left:right])\n",
    "        max_value = signal[x]\n",
    "        R.append(float(max_value) - float(min_value))\n",
    "        alpha.append(np.arctan(float(R[-1]) / float(T[i])))\n",
    "        \n",
    "    R = np.array(R)\n",
    "    alpha = np.array(alpha)\n",
    "    \n",
    "    features.append(np.mean(T))\n",
    "    features.append(np.mean(R))\n",
    "    features.append(np.mean(alpha))\n",
    "\n",
    "    features.append(np.std(T))\n",
    "    features.append(np.std(R))\n",
    "    features.append(np.std(alpha))\n",
    "    \n",
    "    features.append(np.min(T))\n",
    "    features.append(np.min(R))\n",
    "    features.append(np.min(alpha))\n",
    "    \n",
    "    features.append(np.max(T))\n",
    "    features.append(np.max(R))\n",
    "    features.append(np.max(alpha))\n",
    "\n",
    "    features.append(np.mean(R / alpha))\n",
    "    features.append(np.mean(T / alpha))\n",
    "    features.append(np.mean(R / T))\n",
    "    \n",
    "    features.append(np.std(R / alpha))\n",
    "    features.append(np.std(T / alpha))\n",
    "    features.append(np.std(R / T))\n",
    "    \n",
    "    features.append(np.min(R / alpha))\n",
    "    features.append(np.min(T / alpha))\n",
    "    features.append(np.min(R / T))\n",
    "    \n",
    "    features.append(np.max(R / alpha))\n",
    "    features.append(np.max(T / alpha))\n",
    "    features.append(np.max(R / T))\n",
    "\n",
    "    data.append(features)\n",
    "    \n",
    "data = np.array(data)"
   ]
  },
  {
   "cell_type": "code",
   "execution_count": 20,
   "metadata": {
    "collapsed": false
   },
   "outputs": [
    {
     "name": "stdout",
     "output_type": "stream",
     "text": [
      "auc: 0.681667111014\n",
      "\n",
      "acc by signals with thr = 0.5: 0.753221010902\n",
      "acc by people with thr = 0.5: 0.618573851302\n",
      "\n",
      "max acc by signals: 0.767096134787 | thr: 0.69696969697\n",
      "max acc by people: 0.676710498541 | thr: 0.353535353535\n"
     ]
    }
   ],
   "source": [
    "validate(data, labels)"
   ]
  },
  {
   "cell_type": "markdown",
   "metadata": {},
   "source": [
    "То есть максимальное усреднённое качество 67.7%."
   ]
  },
  {
   "cell_type": "code",
   "execution_count": 21,
   "metadata": {
    "collapsed": true
   },
   "outputs": [],
   "source": [
    "data_interval_stats = data"
   ]
  },
  {
   "cell_type": "markdown",
   "metadata": {
    "collapsed": true
   },
   "source": [
    "## 4. Статистики QRS-комплекса"
   ]
  },
  {
   "cell_type": "markdown",
   "metadata": {},
   "source": [
    "Построим датасет с попыткой имитировать ручной анализ QRS-комлекса. Вычислим признаки на статистикам интервалов: \n",
    "\n",
    "- Средние значения и среднеквадратичные отклонения максимумов, минимумов, средних значений, среднеквадратичных отклонений в окне сигнала вокруг пика.\n",
    "- Средние значения и среднеквадратичные отклонения длин QRS, значений ST, доли ST>0, значений Q, S, их отношений.\n",
    "\n",
    "Всего 30 признаков."
   ]
  },
  {
   "cell_type": "code",
   "execution_count": 22,
   "metadata": {
    "collapsed": false
   },
   "outputs": [],
   "source": [
    "data = []\n",
    "for signal in signals:\n",
    "    features = []\n",
    "    inds = find_maximums(signal=signal, window=300, step=150)\n",
    "    inds = [x for x in inds if x >= 500 and x < len(signal) - 500]\n",
    "    \n",
    "    max_ = []\n",
    "    mean_ = []\n",
    "    min_ = []\n",
    "    std_ = []\n",
    "    \n",
    "    st_ = []\n",
    "    st_frac_ = []\n",
    "    q_ = []\n",
    "    s_ = []\n",
    "    qrs_ = []\n",
    "    \n",
    "    for ind in inds:\n",
    "        part = signal[ind-500:ind+500]\n",
    "        max_.append(np.max(part))\n",
    "        mean_.append(np.mean(part))\n",
    "        min_.append(np.min(part))\n",
    "        std_.append(np.std(part))\n",
    "        \n",
    "        s_arg = np.argmin(part[500:700])\n",
    "        t_arg = np.argmax(part[500+s_arg:])\n",
    "        s_.append(part[500+s_arg])\n",
    "        st_.append(np.mean(part[500+s_arg:500+s_arg+t_arg+1]))\n",
    "        st_frac_.append(np.mean(part[500+s_arg:500+s_arg+t_arg+1] < 0))\n",
    "\n",
    "        q_arg = np.argmin(part[300:500])\n",
    "        q_.append(part[300+q_arg])\n",
    "        qrs_.append((s_arg+500) - (q_arg+300))\n",
    "    \n",
    "    max_ = np.array(max_) + 1e-10\n",
    "    mean_ = np.array(mean_) + 1e-10\n",
    "    min_ = np.array(min_) + 1e-10\n",
    "    std_ = np.array(std_)\n",
    "    \n",
    "    st_ = np.array(st_)\n",
    "    st_frac_ = np.array(st_frac_)\n",
    "    q_ = np.array(q_)\n",
    "    s_ = np.array(s_)\n",
    "    qrs_ = np.array(qrs_)\n",
    "                        \n",
    "    features.append(np.mean(max_))\n",
    "    features.append(np.mean(min_))\n",
    "    features.append(np.mean(mean_))\n",
    "    features.append(np.mean(std_))\n",
    "                        \n",
    "    features.append(np.std(max_))\n",
    "    features.append(np.std(min_))\n",
    "    features.append(np.std(mean_))\n",
    "    features.append(np.std(std_))\n",
    "                        \n",
    "    features.append(np.mean(max_ / min_))\n",
    "    features.append(np.std(max_ / min_))                    \n",
    "                        \n",
    "    features.append(np.mean(st_))\n",
    "    features.append(np.mean(st_frac_))\n",
    "    features.append(np.mean(st_ / mean_))\n",
    "    features.append(np.std(st_))\n",
    "    features.append(np.std(st_frac_))\n",
    "    features.append(np.std(st_ / mean_))\n",
    "                        \n",
    "    features.append(np.mean(s_))\n",
    "    features.append(np.std(s_))\n",
    "                        \n",
    "    features.append(np.mean(q_))\n",
    "    features.append(np.std(q_))\n",
    "                        \n",
    "    features.append(np.mean(qrs_))\n",
    "    features.append(np.std(qrs_))\n",
    "                        \n",
    "    features.append(np.mean(s_ / max_))\n",
    "    features.append(np.mean(q_ / max_))\n",
    "                        \n",
    "    features.append(np.mean(max_ - s_))\n",
    "    features.append(np.std(max_ - s_))\n",
    "                        \n",
    "    features.append(np.mean(max_ - q_))\n",
    "    features.append(np.std(max_ - q_))\n",
    "        \n",
    "    features.append(np.mean(q_ / (s_ + 1e-10)))\n",
    "    features.append(np.std(q_ / (s_ + 1e-10)))\n",
    "                        \n",
    "    data.append(features)\n",
    "    \n",
    "data = np.array(data)"
   ]
  },
  {
   "cell_type": "code",
   "execution_count": 23,
   "metadata": {
    "collapsed": false
   },
   "outputs": [
    {
     "name": "stdout",
     "output_type": "stream",
     "text": [
      "auc: 0.72682527255\n",
      "\n",
      "acc by signals with thr = 0.5: 0.767096134787\n",
      "acc by people with thr = 0.5: 0.682082585322\n",
      "\n",
      "max acc by signals: 0.782292699042 | thr: 0.666666666667\n",
      "max acc by people: 0.706963505511 | thr: 0.373737373737\n"
     ]
    }
   ],
   "source": [
    "validate(data, labels)"
   ]
  },
  {
   "cell_type": "markdown",
   "metadata": {},
   "source": [
    "То есть максимальное качество составило 70.7%."
   ]
  },
  {
   "cell_type": "code",
   "execution_count": 25,
   "metadata": {
    "collapsed": true
   },
   "outputs": [],
   "source": [
    "data_stats_interval = data"
   ]
  },
  {
   "cell_type": "markdown",
   "metadata": {
    "collapsed": false
   },
   "source": [
    "## 5. Фурье-признаки, сингулярные числа и статистики по интервалам с пиками\n",
    "\n",
    "(Аналог пункта 1, но вместе подряд идущих непересекающихся окон берутся окна длиной тысячу вокруг каждого пика).\n",
    "\n",
    "Всего 530 признаков."
   ]
  },
  {
   "cell_type": "code",
   "execution_count": 41,
   "metadata": {
    "collapsed": false
   },
   "outputs": [],
   "source": [
    "count_fft_value = 500\n",
    "count_singular_value = 20\n",
    "count_statistics = 10\n",
    "\n",
    "data = np.empty((len(labels), count_fft_value + count_singular_value + count_statistics))\n",
    "\n",
    "for i in range(len(signals)):\n",
    " \n",
    "    # fft by intervals\n",
    "    inds = find_maximums(signals[i], 300, 150)\n",
    "    inds = [x for x in inds if x >= count_fft_value and x < len(signals[i]) - count_fft_value]\n",
    "    count = len(inds)\n",
    "    mat = np.empty((count, 2 * count_fft_value))\n",
    "    mat_fft = np.empty((count, count_fft_value))\n",
    "    for j in range(count):\n",
    "        mat[j] = signals[i][inds[j] - count_fft_value : inds[j] + count_fft_value]\n",
    "        mat_fft[j] = np.abs(fft(mat[j])[:count_fft_value])\n",
    "    data[i, :count_fft_value] = mat_fft.mean(axis=0)\n",
    "\n",
    "    _, s, _ = np.linalg.svd(mat)\n",
    "    data[i, count_fft_value : count_fft_value + count_singular_value] = s[:count_singular_value]\n",
    "    \n",
    "    statistics = []\n",
    "    statistics.append(np.mean(signals[i] > 0))\n",
    "    statistics.append(np.mean(signals[i] > np.mean(signals[i])))\n",
    "    statistics.append(np.mean(signals[i] > np.mean(signals[i]) + np.std(signals[i])))\n",
    "    statistics.append(np.mean(signals[i] < np.mean(signals[i]) - np.std(signals[i])))\n",
    "    statistics.append(np.mean(signals[i] > np.mean(signals[i]) + 2 * np.std(signals[i])))\n",
    "    statistics.append(np.mean(signals[i] < np.mean(signals[i]) - 2 * np.std(signals[i])))\n",
    "    statistics.append(np.mean(signals[i]))\n",
    "    statistics.append(np.std(signals[i]))\n",
    "    statistics.append(np.mean((signals[i] < np.mean(signals[i]) + np.std(signals[i])) & (signals[i] > np.mean(signals[i]) - np.std(signals[i]))))\n",
    "    statistics.append(np.mean((signals[i] < np.mean(signals[i]) + 2 * np.std(signals[i])) & (signals[i] > np.mean(signals[i]) - 2 * np.std(signals[i]))))\n",
    "    \n",
    "    data[i, count_fft_value + count_singular_value :] = np.array(statistics)"
   ]
  },
  {
   "cell_type": "code",
   "execution_count": 27,
   "metadata": {
    "collapsed": false
   },
   "outputs": [
    {
     "name": "stdout",
     "output_type": "stream",
     "text": [
      "auc: 0.76396075186\n",
      "\n",
      "acc by signals with thr = 0.5: 0.779319458209\n",
      "acc by people with thr = 0.5: 0.680093414886\n",
      "\n",
      "max acc by signals: 0.792864222002 | thr: 0.585858585859\n",
      "max acc by people: 0.728513476882 | thr: 0.353535353535\n"
     ]
    }
   ],
   "source": [
    "validate(data, labels)"
   ]
  },
  {
   "cell_type": "markdown",
   "metadata": {},
   "source": [
    "То есть максимальное качество 72.9%."
   ]
  },
  {
   "cell_type": "code",
   "execution_count": 42,
   "metadata": {
    "collapsed": true
   },
   "outputs": [],
   "source": [
    "data_fft_interval = data[:, :500]\n",
    "data_singular_interval = data[:, 500:520]\n",
    "data_simple_stats = data[:, 520:]"
   ]
  },
  {
   "cell_type": "code",
   "execution_count": 29,
   "metadata": {
    "collapsed": false
   },
   "outputs": [
    {
     "name": "stdout",
     "output_type": "stream",
     "text": [
      "auc: 0.755854226709\n",
      "\n",
      "acc by signals with thr = 0.5: 0.783614139412\n",
      "acc by people with thr = 0.5: 0.674786033077\n",
      "\n",
      "max acc by signals: 0.797489263297 | thr: 0.646464646465\n",
      "max acc by people: 0.738896574402 | thr: 0.272727272727\n"
     ]
    }
   ],
   "source": [
    "validate(data_fft_interval, labels)"
   ]
  },
  {
   "cell_type": "markdown",
   "metadata": {
    "collapsed": true
   },
   "source": [
    "Если использовать только коэффциенты Фурье, то качество получается выше, чем аналогичное для коэффициентов Фурье для непересекающихся подряд идущих окон."
   ]
  },
  {
   "cell_type": "markdown",
   "metadata": {},
   "source": [
    "Итого получаем по датасетам:"
   ]
  },
  {
   "cell_type": "markdown",
   "metadata": {
    "collapsed": true
   },
   "source": [
    "| Признаки        | Качество      |\n",
    "| -------------   | ------------- |\n",
    "| Фурье, сингул.числа, статистики | 75.2% |\n",
    "| Признаки Успенского             | 77.5% |  \n",
    "| Статистики по интервалам        | 67.7% |\n",
    "| Статистики по QRS               | 70.7% |\n",
    "| Фурье, сингул.числа, статистики по интервалам   | 72.9% |\n",
    "| Фурье по обычным окнам          | 72.9% |\n",
    "| Фурье по окнам с пиками         | 73.9% |"
   ]
  },
  {
   "cell_type": "markdown",
   "metadata": {
    "collapsed": true
   },
   "source": [
    "Естественно, на каждом из датасетов можно получить более высокое качество, если убрать некоторые \"плохие\" признаки и аккуратно настроить алгоритм."
   ]
  },
  {
   "cell_type": "markdown",
   "metadata": {},
   "source": [
    "Объединять все признаки вместе плохая идея, так как признаков станет слишком много. Поэтому реализуем простую функцию для уменьшения количества признаков в каждом датасете с учётом их важности в построенном лесе. "
   ]
  },
  {
   "cell_type": "code",
   "execution_count": 98,
   "metadata": {
    "collapsed": false
   },
   "outputs": [],
   "source": [
    "def reduce_dataset(data, labels, every=1):\n",
    "    clf = RandomForestClassifier(n_estimators=100, criterion='entropy', n_jobs=-1, random_state=1)\n",
    "    clf.fit(data, labels)\n",
    "\n",
    "    thresholds = np.sort(clf.feature_importances_)\n",
    "    best_acc = 0\n",
    "\n",
    "    for thr in [0] + list(thresholds[::every]):\n",
    "        if not sum(clf.feature_importances_ > thr):\n",
    "            continue\n",
    "        acc = validate(data[:, clf.feature_importances_ > thr], labels, print_result=False)\n",
    "        if acc > best_acc:\n",
    "            best_acc = acc\n",
    "            best_thr = thr\n",
    "    \n",
    "    print 'best accuracy:', best_acc\n",
    "    print 'best threshold:', best_thr\n",
    "    print 'before shape:', data.shape\n",
    "    print 'after shape:', data[:, clf.feature_importances_ > best_thr].shape\n",
    "    \n",
    "    return data[:, clf.feature_importances_ > best_thr]"
   ]
  },
  {
   "cell_type": "markdown",
   "metadata": {},
   "source": [
    "Запустим на всех наборах с разным шагом перебора (для уменьшения времени вычисления)."
   ]
  },
  {
   "cell_type": "code",
   "execution_count": 6,
   "metadata": {
    "collapsed": false
   },
   "outputs": [
    {
     "name": "stdout",
     "output_type": "stream",
     "text": [
      "best accuracy: 0.766208916718\n",
      "best threshold: 0.00641863882646\n",
      "before shape: (3027, 500)\n",
      "after shape: (3027, 29)\n"
     ]
    }
   ],
   "source": [
    "data_fft_interval = reduce_dataset(data_fft_interval, labels, every=10)"
   ]
  },
  {
   "cell_type": "code",
   "execution_count": 6,
   "metadata": {
    "collapsed": false
   },
   "outputs": [
    {
     "name": "stdout",
     "output_type": "stream",
     "text": [
      "best accuracy: 0.767436252733\n",
      "best threshold: 0.00371588570901\n",
      "before shape: (3027, 500)\n",
      "after shape: (3027, 59)\n"
     ]
    }
   ],
   "source": [
    "data_fft_simple = reduce_dataset(data_fft_simple, labels, every=10)"
   ]
  },
  {
   "cell_type": "code",
   "execution_count": 10,
   "metadata": {
    "collapsed": false
   },
   "outputs": [
    {
     "name": "stdout",
     "output_type": "stream",
     "text": [
      "best accuracy: 0.674142977703\n",
      "best threshold: 0.039100102802\n",
      "before shape: (3027, 24)\n",
      "after shape: (3027, 15)\n"
     ]
    }
   ],
   "source": [
    "data_interval_stats = reduce_dataset(data_interval_stats, labels, every=2)"
   ]
  },
  {
   "cell_type": "code",
   "execution_count": 15,
   "metadata": {
    "collapsed": false
   },
   "outputs": [
    {
     "name": "stdout",
     "output_type": "stream",
     "text": [
      "best accuracy: 0.703690706159\n",
      "best threshold: 0.0766654574105\n",
      "before shape: (3027, 10)\n",
      "after shape: (3027, 9)\n"
     ]
    }
   ],
   "source": [
    "data_simple_stats = reduce_dataset(data_simple_stats, labels, every=1)"
   ]
  },
  {
   "cell_type": "code",
   "execution_count": 25,
   "metadata": {
    "collapsed": false
   },
   "outputs": [
    {
     "name": "stdout",
     "output_type": "stream",
     "text": [
      "best accuracy: 0.636201121764\n",
      "best threshold: 0.0503770095615\n",
      "before shape: (3027, 20)\n",
      "after shape: (3027, 7)\n"
     ]
    }
   ],
   "source": [
    "data_singular_interval = reduce_dataset(data_singular_interval, labels, every=2)"
   ]
  },
  {
   "cell_type": "code",
   "execution_count": 28,
   "metadata": {
    "collapsed": false
   },
   "outputs": [
    {
     "name": "stdout",
     "output_type": "stream",
     "text": [
      "best accuracy: 0.62783879947\n",
      "best threshold: 0.104581827919\n",
      "before shape: (3027, 9)\n",
      "after shape: (3027, 6)\n"
     ]
    }
   ],
   "source": [
    "data_singular_simple = reduce_dataset(data_singular_simple, labels, every=2)"
   ]
  },
  {
   "cell_type": "code",
   "execution_count": 31,
   "metadata": {
    "collapsed": false
   },
   "outputs": [
    {
     "name": "stdout",
     "output_type": "stream",
     "text": [
      "best accuracy: 0.715851080157\n",
      "best threshold: 0.0257278053912\n",
      "before shape: (3027, 30)\n",
      "after shape: (3027, 23)\n"
     ]
    }
   ],
   "source": [
    "data_stats_interval = reduce_dataset(data_stats_interval, labels, every=2)"
   ]
  },
  {
   "cell_type": "code",
   "execution_count": 99,
   "metadata": {
    "collapsed": false
   },
   "outputs": [
    {
     "name": "stdout",
     "output_type": "stream",
     "text": [
      "best accuracy: 0.776124211842\n",
      "best threshold: 0.0024697951121\n",
      "before shape: (3027, 252)\n",
      "after shape: (3027, 146)\n"
     ]
    }
   ],
   "source": [
    "data_uspenskii = reduce_dataset(data_uspenskii, labels, every=5)"
   ]
  },
  {
   "cell_type": "code",
   "execution_count": 101,
   "metadata": {
    "collapsed": false
   },
   "outputs": [
    {
     "data": {
      "text/plain": [
       "(3027, 294)"
      ]
     },
     "execution_count": 101,
     "metadata": {},
     "output_type": "execute_result"
    }
   ],
   "source": [
    "data = np.hstack((data_fft_interval, data_fft_simple, data_interval_stats, data_simple_stats, \n",
    "                  data_singular_interval, data_singular_simple, data_stats_interval, data_uspenskii))\n",
    "data.shape"
   ]
  },
  {
   "cell_type": "markdown",
   "metadata": {},
   "source": [
    "То есть получили 294 признаки (меньше, чем в признаках с одними только коэффициентами Фурье)."
   ]
  },
  {
   "cell_type": "code",
   "execution_count": 102,
   "metadata": {
    "collapsed": false
   },
   "outputs": [
    {
     "name": "stdout",
     "output_type": "stream",
     "text": [
      "auc: 0.824447390675\n",
      "\n",
      "acc by signals with thr = 0.5: 0.822596630327\n",
      "acc by people with thr = 0.5: 0.745121719608\n",
      "\n",
      "max acc by signals: 0.823587710605 | thr: 0.545454545455\n",
      "max acc by people: 0.798482691679 | thr: 0.353535353535\n"
     ]
    }
   ],
   "source": [
    "validate(data, labels)"
   ]
  },
  {
   "cell_type": "markdown",
   "metadata": {},
   "source": [
    "Получаем 79.8% качества."
   ]
  },
  {
   "cell_type": "markdown",
   "metadata": {},
   "source": [
    "Если сделать такую фильтрацию для него:"
   ]
  },
  {
   "cell_type": "code",
   "execution_count": 103,
   "metadata": {
    "collapsed": false
   },
   "outputs": [
    {
     "name": "stdout",
     "output_type": "stream",
     "text": [
      "best accuracy: 0.805831625636\n",
      "best threshold: 0.00290834881605\n",
      "before shape: (3027, 294)\n",
      "after shape: (3027, 143)\n"
     ]
    }
   ],
   "source": [
    "data_reduced = reduce_dataset(data, labels, every=5)"
   ]
  },
  {
   "cell_type": "code",
   "execution_count": 104,
   "metadata": {
    "collapsed": false
   },
   "outputs": [
    {
     "name": "stdout",
     "output_type": "stream",
     "text": [
      "auc: 0.834978424018\n",
      "\n",
      "acc by signals with thr = 0.5: 0.83217707301\n",
      "acc by people with thr = 0.5: 0.747032677778\n",
      "\n",
      "max acc by signals: 0.834489593657 | thr: 0.545454545455\n",
      "max acc by people: 0.805831625636 | thr: 0.363636363636\n"
     ]
    }
   ],
   "source": [
    "validate(data_reduced, labels)"
   ]
  },
  {
   "cell_type": "markdown",
   "metadata": {},
   "source": [
    "Получаем 80.6% точности."
   ]
  },
  {
   "cell_type": "markdown",
   "metadata": {},
   "source": [
    "Естественно, такой отбор признаков довольно плохой, однако даже с ним можно добиться более высокого качества (с некоторым переобучением, так как использовался один и тот же алгоритм). Кроме того, результат может быть довольно нестабильным. "
   ]
  },
  {
   "cell_type": "code",
   "execution_count": null,
   "metadata": {
    "collapsed": true
   },
   "outputs": [],
   "source": []
  }
 ],
 "metadata": {
  "anaconda-cloud": {},
  "kernelspec": {
   "display_name": "Python [Root]",
   "language": "python",
   "name": "Python [Root]"
  },
  "language_info": {
   "codemirror_mode": {
    "name": "ipython",
    "version": 2
   },
   "file_extension": ".py",
   "mimetype": "text/x-python",
   "name": "python",
   "nbconvert_exporter": "python",
   "pygments_lexer": "ipython2",
   "version": "2.7.12"
  },
  "nbpresent": {
   "slides": {
    "009837e3-addf-44a2-a08c-c30d90065e0a": {
     "id": "009837e3-addf-44a2-a08c-c30d90065e0a",
     "prev": "1aebb01c-79ea-4a4d-b927-7aceaea4bc27",
     "regions": {
      "9875a4ec-5339-4ee9-9e17-20d424622535": {
       "attrs": {
        "height": 0.8,
        "width": 0.8,
        "x": 0.1,
        "y": 0.1
       },
       "content": {
        "cell": "e6f6aef9-077e-4494-8cf1-b901954ef29c",
        "part": "whole"
       },
       "id": "9875a4ec-5339-4ee9-9e17-20d424622535"
      }
     }
    },
    "01455fc5-9bac-460e-b727-43687abf1905": {
     "id": "01455fc5-9bac-460e-b727-43687abf1905",
     "prev": "c7d6f95d-68ce-43d2-96e8-d8985e1ff974",
     "regions": {
      "bc185a9d-2512-47e0-8fc0-71c46963dea2": {
       "attrs": {
        "height": 0.8,
        "width": 0.8,
        "x": 0.1,
        "y": 0.1
       },
       "content": {
        "cell": "3214eb29-b66e-48b5-a616-b19e3d040140",
        "part": "whole"
       },
       "id": "bc185a9d-2512-47e0-8fc0-71c46963dea2"
      }
     }
    },
    "061c71ff-5b73-4b3f-81af-a49cb0424fd4": {
     "id": "061c71ff-5b73-4b3f-81af-a49cb0424fd4",
     "prev": "ff717883-6334-4743-8898-7c038d1adab6",
     "regions": {
      "31fe6757-bcd4-4a3f-89e7-c14b9436d0ea": {
       "attrs": {
        "height": 0.8,
        "width": 0.8,
        "x": 0.1,
        "y": 0.1
       },
       "content": {
        "cell": "8d4d49c2-9c5e-46aa-99ce-daee64311f9a",
        "part": "whole"
       },
       "id": "31fe6757-bcd4-4a3f-89e7-c14b9436d0ea"
      }
     }
    },
    "15f4edd6-5bc3-4f1e-8a23-f4089d6b7e4a": {
     "id": "15f4edd6-5bc3-4f1e-8a23-f4089d6b7e4a",
     "prev": "67a5fe14-016e-4169-996c-b9cd4d52a312",
     "regions": {
      "3f2fc629-c14f-41a1-810e-a2038ed9564e": {
       "attrs": {
        "height": 0.8,
        "width": 0.8,
        "x": 0.1,
        "y": 0.1
       },
       "content": {
        "cell": "05fbec9f-a77d-4265-93bb-bba71bb53fa6",
        "part": "whole"
       },
       "id": "3f2fc629-c14f-41a1-810e-a2038ed9564e"
      }
     }
    },
    "1aebb01c-79ea-4a4d-b927-7aceaea4bc27": {
     "id": "1aebb01c-79ea-4a4d-b927-7aceaea4bc27",
     "prev": "e7fbcae0-1e27-424f-b807-7b49c5f0bb2d",
     "regions": {
      "849b4028-4f4c-4d33-b54c-6478dc081142": {
       "attrs": {
        "height": 0.8,
        "width": 0.8,
        "x": 0.1,
        "y": 0.1
       },
       "content": {
        "cell": "20bb87b4-e51f-4472-a4cb-d0b529d21adc",
        "part": "whole"
       },
       "id": "849b4028-4f4c-4d33-b54c-6478dc081142"
      }
     }
    },
    "271178f4-f397-4d55-b14e-305ecbc6aec4": {
     "id": "271178f4-f397-4d55-b14e-305ecbc6aec4",
     "prev": "ce955336-3a9b-4586-bc64-31f4617f4e06",
     "regions": {
      "d9eb35da-cf97-4324-bccc-19777f8a6c49": {
       "attrs": {
        "height": 0.8,
        "width": 0.8,
        "x": 0.1,
        "y": 0.1
       },
       "content": {
        "cell": "5af6b2d5-054a-4683-8d7a-c6c1c0316bdb",
        "part": "whole"
       },
       "id": "d9eb35da-cf97-4324-bccc-19777f8a6c49"
      }
     }
    },
    "2c94fed0-3ee5-4803-871c-bb48bcd07bd4": {
     "id": "2c94fed0-3ee5-4803-871c-bb48bcd07bd4",
     "prev": "c279c79a-d219-4ef1-aa0d-20552dba39eb",
     "regions": {
      "98827d7a-c41e-4e98-9042-394f6d4691f2": {
       "attrs": {
        "height": 0.8,
        "width": 0.8,
        "x": 0.1,
        "y": 0.1
       },
       "content": {
        "cell": "cce063a6-de68-4318-b7d5-e8c2d92c9dc3",
        "part": "whole"
       },
       "id": "98827d7a-c41e-4e98-9042-394f6d4691f2"
      }
     }
    },
    "3617b6cf-bfb5-49f7-9113-edb57d0f0eb2": {
     "id": "3617b6cf-bfb5-49f7-9113-edb57d0f0eb2",
     "prev": "3806d146-a79e-403b-a13f-3924b110d347",
     "regions": {
      "094ede8c-af24-4c4f-8509-2d1b02c88c37": {
       "attrs": {
        "height": 0.8,
        "width": 0.8,
        "x": 0.1,
        "y": 0.1
       },
       "content": {
        "cell": "b78b542d-5501-4827-a305-16ed8d770884",
        "part": "whole"
       },
       "id": "094ede8c-af24-4c4f-8509-2d1b02c88c37"
      }
     }
    },
    "376e8acd-692c-4179-b06d-3827df6c7c2e": {
     "id": "376e8acd-692c-4179-b06d-3827df6c7c2e",
     "prev": "d65f8f7b-c036-4613-ac6b-fbdfa48c44c9",
     "regions": {
      "acff41e1-747c-4595-9fac-d0a89d16ae54": {
       "attrs": {
        "height": 0.8,
        "width": 0.8,
        "x": 0.1,
        "y": 0.1
       },
       "content": {
        "cell": "1d02bebb-e028-4535-b4cc-81ac345812f7",
        "part": "whole"
       },
       "id": "acff41e1-747c-4595-9fac-d0a89d16ae54"
      }
     }
    },
    "3806d146-a79e-403b-a13f-3924b110d347": {
     "id": "3806d146-a79e-403b-a13f-3924b110d347",
     "prev": "7252bca0-66d7-4fbb-8321-20cf7d9e3b0f",
     "regions": {
      "6f9953a6-2529-40ca-a686-4274b5edb8a8": {
       "attrs": {
        "height": 0.8,
        "width": 0.8,
        "x": 0.1,
        "y": 0.1
       },
       "content": {
        "cell": "c43f6845-56f8-4574-a55f-ed5acd63dae1",
        "part": "whole"
       },
       "id": "6f9953a6-2529-40ca-a686-4274b5edb8a8"
      }
     }
    },
    "3d850da8-f42b-4108-a900-e088d63b1dc8": {
     "id": "3d850da8-f42b-4108-a900-e088d63b1dc8",
     "prev": "d5bdec55-795f-4381-8196-7942777e289f",
     "regions": {
      "6fad1003-b274-4840-a76a-1658f89d7fa6": {
       "attrs": {
        "height": 0.8,
        "width": 0.8,
        "x": 0.1,
        "y": 0.1
       },
       "content": {
        "cell": "3f62233b-47b6-45a8-aca6-80a7f8d55d5d",
        "part": "whole"
       },
       "id": "6fad1003-b274-4840-a76a-1658f89d7fa6"
      }
     }
    },
    "43930c45-0359-4df2-a449-ffc2f45b17dd": {
     "id": "43930c45-0359-4df2-a449-ffc2f45b17dd",
     "prev": "e1029079-2b6f-4040-bf4f-df8c247dbcf8",
     "regions": {
      "a49794d5-45a0-4dc1-91e0-da50b630e531": {
       "attrs": {
        "height": 0.8,
        "width": 0.8,
        "x": 0.1,
        "y": 0.1
       },
       "content": {
        "cell": "176f29fb-e893-4e04-b0c5-6bd69e2d4efc",
        "part": "whole"
       },
       "id": "a49794d5-45a0-4dc1-91e0-da50b630e531"
      }
     }
    },
    "50d80c86-8b7b-44f3-9913-95f0cd7689ce": {
     "id": "50d80c86-8b7b-44f3-9913-95f0cd7689ce",
     "prev": "f71a9548-4787-4129-8563-b940466e83d5",
     "regions": {
      "6a2bc8d8-8880-43b6-ae37-ec2c72ded8f8": {
       "attrs": {
        "height": 0.8,
        "width": 0.8,
        "x": 0.1,
        "y": 0.1
       },
       "content": {
        "cell": "8d395f27-fabc-4108-8f49-0e8e9440b5ea",
        "part": "whole"
       },
       "id": "6a2bc8d8-8880-43b6-ae37-ec2c72ded8f8"
      }
     }
    },
    "5348969b-2172-4189-9c89-dd652f448702": {
     "id": "5348969b-2172-4189-9c89-dd652f448702",
     "prev": "061c71ff-5b73-4b3f-81af-a49cb0424fd4",
     "regions": {
      "7fb80213-557b-4b73-9a76-d3d9d15aebe7": {
       "attrs": {
        "height": 0.8,
        "width": 0.8,
        "x": 0.1,
        "y": 0.1
       },
       "content": {
        "cell": "c1affcd6-423f-4f5c-879f-7a8d5fc30e56",
        "part": "whole"
       },
       "id": "7fb80213-557b-4b73-9a76-d3d9d15aebe7"
      }
     }
    },
    "642c79e2-a0f2-42d2-9dcb-69a0e924dd12": {
     "id": "642c79e2-a0f2-42d2-9dcb-69a0e924dd12",
     "prev": "ebd44fdb-b3e3-4ed3-bdd5-6b399572c4dd",
     "regions": {
      "dff82544-703a-4c15-a28b-e671bf1c500f": {
       "attrs": {
        "height": 0.8,
        "width": 0.8,
        "x": 0.1,
        "y": 0.1
       },
       "content": {
        "cell": "83b6076b-5d54-4062-af38-c68f1a1da476",
        "part": "whole"
       },
       "id": "dff82544-703a-4c15-a28b-e671bf1c500f"
      }
     }
    },
    "67a5fe14-016e-4169-996c-b9cd4d52a312": {
     "id": "67a5fe14-016e-4169-996c-b9cd4d52a312",
     "prev": "50d80c86-8b7b-44f3-9913-95f0cd7689ce",
     "regions": {
      "ad8c0d74-7553-4ea2-b40b-d0dbf59a4863": {
       "attrs": {
        "height": 0.8,
        "width": 0.8,
        "x": 0.1,
        "y": 0.1
       },
       "content": {
        "cell": "95785b61-e9cf-411d-bddf-c7adc88e1933",
        "part": "whole"
       },
       "id": "ad8c0d74-7553-4ea2-b40b-d0dbf59a4863"
      }
     }
    },
    "6c5c2404-5fd8-41de-b780-6cec254dca7c": {
     "id": "6c5c2404-5fd8-41de-b780-6cec254dca7c",
     "prev": null,
     "regions": {
      "47783cda-b007-4c11-8571-52105e868437": {
       "attrs": {
        "height": 0.8,
        "width": 0.8,
        "x": 0.1,
        "y": 0.1
       },
       "content": {
        "cell": "2d676ae2-a7dd-4e86-94c4-b28350909aed",
        "part": "whole"
       },
       "id": "47783cda-b007-4c11-8571-52105e868437"
      }
     }
    },
    "7252bca0-66d7-4fbb-8321-20cf7d9e3b0f": {
     "id": "7252bca0-66d7-4fbb-8321-20cf7d9e3b0f",
     "prev": "01455fc5-9bac-460e-b727-43687abf1905",
     "regions": {
      "9c1c6789-9d01-4158-b863-847365e14def": {
       "attrs": {
        "height": 0.8,
        "width": 0.8,
        "x": 0.1,
        "y": 0.1
       },
       "content": {
        "cell": "28e7097a-bee2-4890-8453-7106d2f97960",
        "part": "whole"
       },
       "id": "9c1c6789-9d01-4158-b863-847365e14def"
      }
     }
    },
    "7bb66adf-8b52-40a4-aa6c-d4542f775cb2": {
     "id": "7bb66adf-8b52-40a4-aa6c-d4542f775cb2",
     "prev": "5348969b-2172-4189-9c89-dd652f448702",
     "regions": {
      "fae0c150-1ec2-4d20-a5a2-1b59c9d98f52": {
       "attrs": {
        "height": 0.8,
        "width": 0.8,
        "x": 0.1,
        "y": 0.1
       },
       "content": {
        "cell": "c9ea6960-cbd3-4ff8-9719-f105a1f2de1d",
        "part": "whole"
       },
       "id": "fae0c150-1ec2-4d20-a5a2-1b59c9d98f52"
      }
     }
    },
    "7bdcba30-285c-49b2-a380-a1b20cd56add": {
     "id": "7bdcba30-285c-49b2-a380-a1b20cd56add",
     "prev": "da0c4b94-4d2c-4c45-b012-1d3c02c3d00a",
     "regions": {
      "d720085e-60fd-4a67-aa3f-ae9ec1dba3e2": {
       "attrs": {
        "height": 0.8,
        "width": 0.8,
        "x": 0.1,
        "y": 0.1
       },
       "content": {
        "cell": "5a0d6388-58bb-4b72-b9c0-099c700d13f1",
        "part": "whole"
       },
       "id": "d720085e-60fd-4a67-aa3f-ae9ec1dba3e2"
      }
     }
    },
    "7e585338-536e-4c8b-88d2-742b91219038": {
     "id": "7e585338-536e-4c8b-88d2-742b91219038",
     "prev": "bc828a64-ebff-4ba5-87a3-579ce9eeb186",
     "regions": {
      "e8fe9aa3-8a5d-4c1c-965a-0df96cf5cd2e": {
       "attrs": {
        "height": 0.8,
        "width": 0.8,
        "x": 0.1,
        "y": 0.1
       },
       "content": {
        "cell": "4d805939-15ec-47d7-8f45-7ea4da1c42c3",
        "part": "whole"
       },
       "id": "e8fe9aa3-8a5d-4c1c-965a-0df96cf5cd2e"
      }
     }
    },
    "8430a9a9-d5bc-4de8-8881-c46bedfb70ae": {
     "id": "8430a9a9-d5bc-4de8-8881-c46bedfb70ae",
     "prev": "e8aeef4d-996e-425c-b9d6-b665a4815efd",
     "regions": {
      "3e27ad92-292e-41f9-9e62-d60acc7febd9": {
       "attrs": {
        "height": 0.8,
        "width": 0.8,
        "x": 0.1,
        "y": 0.1
       },
       "content": {
        "cell": "a0af61d0-cc6a-4aba-bdba-0f2c7d9ab99c",
        "part": "whole"
       },
       "id": "3e27ad92-292e-41f9-9e62-d60acc7febd9"
      }
     }
    },
    "8ef12234-dea5-4a64-ba3a-c3a64dca1cbe": {
     "id": "8ef12234-dea5-4a64-ba3a-c3a64dca1cbe",
     "prev": "8f65101f-c222-40de-bc57-932879b34de0",
     "regions": {
      "fbb743ed-5c48-4afc-ba80-154aa0fc3802": {
       "attrs": {
        "height": 0.8,
        "width": 0.8,
        "x": 0.1,
        "y": 0.1
       },
       "content": {
        "cell": "e062cdb3-6227-4694-981e-37f7acce08c9",
        "part": "whole"
       },
       "id": "fbb743ed-5c48-4afc-ba80-154aa0fc3802"
      }
     }
    },
    "8f65101f-c222-40de-bc57-932879b34de0": {
     "id": "8f65101f-c222-40de-bc57-932879b34de0",
     "prev": "7e585338-536e-4c8b-88d2-742b91219038",
     "regions": {
      "035b5a83-1961-4aa0-a93b-ad24d4cf5a30": {
       "attrs": {
        "height": 0.8,
        "width": 0.8,
        "x": 0.1,
        "y": 0.1
       },
       "content": {
        "cell": "a39cd83e-eaea-4746-9b8a-0820bc5f53b1",
        "part": "whole"
       },
       "id": "035b5a83-1961-4aa0-a93b-ad24d4cf5a30"
      }
     }
    },
    "941e3bb1-c3c9-43f7-95c7-a82c2c6c7c60": {
     "id": "941e3bb1-c3c9-43f7-95c7-a82c2c6c7c60",
     "prev": "e89ddb1f-0cb3-4f3d-9c4e-a4c12763abfe",
     "regions": {
      "ea9fd193-4bed-4409-b9c0-bdda60964d60": {
       "attrs": {
        "height": 0.8,
        "width": 0.8,
        "x": 0.1,
        "y": 0.1
       },
       "content": {
        "cell": "6e185143-21d6-4184-bfff-4b88687fe7fd",
        "part": "whole"
       },
       "id": "ea9fd193-4bed-4409-b9c0-bdda60964d60"
      }
     }
    },
    "b0fb1b7c-6ef5-4a88-8ac1-a5bb6df7a23a": {
     "id": "b0fb1b7c-6ef5-4a88-8ac1-a5bb6df7a23a",
     "prev": "2c94fed0-3ee5-4803-871c-bb48bcd07bd4",
     "regions": {
      "a0532952-bc9f-493a-a6b4-8b0784a4c7c9": {
       "attrs": {
        "height": 0.8,
        "width": 0.8,
        "x": 0.1,
        "y": 0.1
       },
       "content": {
        "cell": "5ffabf32-bf76-4d89-bf5a-c0a3eab352af",
        "part": "whole"
       },
       "id": "a0532952-bc9f-493a-a6b4-8b0784a4c7c9"
      }
     }
    },
    "bc828a64-ebff-4ba5-87a3-579ce9eeb186": {
     "id": "bc828a64-ebff-4ba5-87a3-579ce9eeb186",
     "prev": "43930c45-0359-4df2-a449-ffc2f45b17dd",
     "regions": {
      "58a0becc-840c-4157-af47-6bfe5daf4756": {
       "attrs": {
        "height": 0.8,
        "width": 0.8,
        "x": 0.1,
        "y": 0.1
       },
       "content": {
        "cell": "9361b466-db99-45ce-abf6-7ced95fcf1e7",
        "part": "whole"
       },
       "id": "58a0becc-840c-4157-af47-6bfe5daf4756"
      }
     }
    },
    "bcab738a-b488-4823-9c50-e3e5004b53ea": {
     "id": "bcab738a-b488-4823-9c50-e3e5004b53ea",
     "prev": "6c5c2404-5fd8-41de-b780-6cec254dca7c",
     "regions": {
      "3098bc39-3d36-4bcd-8d48-e1c22f17e94d": {
       "attrs": {
        "height": 0.8,
        "width": 0.8,
        "x": 0.1,
        "y": 0.1
       },
       "content": {
        "cell": "52fd8b41-ed49-49be-8364-1fe32872a868",
        "part": "whole"
       },
       "id": "3098bc39-3d36-4bcd-8d48-e1c22f17e94d"
      }
     }
    },
    "c279c79a-d219-4ef1-aa0d-20552dba39eb": {
     "id": "c279c79a-d219-4ef1-aa0d-20552dba39eb",
     "prev": "8ef12234-dea5-4a64-ba3a-c3a64dca1cbe",
     "regions": {
      "f1e4b733-d126-458e-a863-d5f58ba7f4e1": {
       "attrs": {
        "height": 0.8,
        "width": 0.8,
        "x": 0.1,
        "y": 0.1
       },
       "content": {
        "cell": "8ff97da6-b469-4893-b885-1501407345a0",
        "part": "whole"
       },
       "id": "f1e4b733-d126-458e-a863-d5f58ba7f4e1"
      }
     }
    },
    "c7d6f95d-68ce-43d2-96e8-d8985e1ff974": {
     "id": "c7d6f95d-68ce-43d2-96e8-d8985e1ff974",
     "prev": "b0fb1b7c-6ef5-4a88-8ac1-a5bb6df7a23a",
     "regions": {
      "11501c59-309f-446d-b131-f48be9bf3463": {
       "attrs": {
        "height": 0.8,
        "width": 0.8,
        "x": 0.1,
        "y": 0.1
       },
       "content": {
        "cell": "6f9da688-e535-4330-aa1a-40a175f3cb71",
        "part": "whole"
       },
       "id": "11501c59-309f-446d-b131-f48be9bf3463"
      }
     }
    },
    "ce955336-3a9b-4586-bc64-31f4617f4e06": {
     "id": "ce955336-3a9b-4586-bc64-31f4617f4e06",
     "prev": "009837e3-addf-44a2-a08c-c30d90065e0a",
     "regions": {
      "a16e46bd-70c4-4fb9-a380-d7ea0a28059c": {
       "attrs": {
        "height": 0.8,
        "width": 0.8,
        "x": 0.1,
        "y": 0.1
       },
       "content": {
        "cell": "d338991f-1668-4603-b2ec-e3859e11499d",
        "part": "whole"
       },
       "id": "a16e46bd-70c4-4fb9-a380-d7ea0a28059c"
      }
     }
    },
    "d5bdec55-795f-4381-8196-7942777e289f": {
     "id": "d5bdec55-795f-4381-8196-7942777e289f",
     "prev": "8430a9a9-d5bc-4de8-8881-c46bedfb70ae",
     "regions": {
      "1e5a5b9b-818c-42b3-9480-47b1471fef75": {
       "attrs": {
        "height": 0.8,
        "width": 0.8,
        "x": 0.1,
        "y": 0.1
       },
       "content": {
        "cell": "04e3b4d3-f98a-43d3-8c20-128a258bc077",
        "part": "whole"
       },
       "id": "1e5a5b9b-818c-42b3-9480-47b1471fef75"
      }
     }
    },
    "d65f8f7b-c036-4613-ac6b-fbdfa48c44c9": {
     "id": "d65f8f7b-c036-4613-ac6b-fbdfa48c44c9",
     "prev": "3617b6cf-bfb5-49f7-9113-edb57d0f0eb2",
     "regions": {
      "b7e904b9-c74e-4cc9-bba9-4a1ce217e702": {
       "attrs": {
        "height": 0.8,
        "width": 0.8,
        "x": 0.1,
        "y": 0.1
       },
       "content": {
        "cell": "7c33bd89-1739-4d7f-8167-920b4fed737b",
        "part": "whole"
       },
       "id": "b7e904b9-c74e-4cc9-bba9-4a1ce217e702"
      }
     }
    },
    "da0c4b94-4d2c-4c45-b012-1d3c02c3d00a": {
     "id": "da0c4b94-4d2c-4c45-b012-1d3c02c3d00a",
     "prev": "feee768e-3a88-49f6-93d4-afd8a8ed747e",
     "regions": {
      "57dc3718-a1b7-43c8-a8ab-3aebe3ece133": {
       "attrs": {
        "height": 0.8,
        "width": 0.8,
        "x": 0.1,
        "y": 0.1
       },
       "content": {
        "cell": "e4d9ca7d-8751-4f2a-9077-7d427db65c8e",
        "part": "whole"
       },
       "id": "57dc3718-a1b7-43c8-a8ab-3aebe3ece133"
      }
     }
    },
    "e1029079-2b6f-4040-bf4f-df8c247dbcf8": {
     "id": "e1029079-2b6f-4040-bf4f-df8c247dbcf8",
     "prev": "941e3bb1-c3c9-43f7-95c7-a82c2c6c7c60",
     "regions": {
      "fed184d0-c093-42bf-ab2d-bc9f5d9651b1": {
       "attrs": {
        "height": 0.8,
        "width": 0.8,
        "x": 0.1,
        "y": 0.1
       },
       "content": {
        "cell": "cb32a341-91f6-4595-b518-0031202597b9",
        "part": "whole"
       },
       "id": "fed184d0-c093-42bf-ab2d-bc9f5d9651b1"
      }
     }
    },
    "e7fbcae0-1e27-424f-b807-7b49c5f0bb2d": {
     "id": "e7fbcae0-1e27-424f-b807-7b49c5f0bb2d",
     "prev": "642c79e2-a0f2-42d2-9dcb-69a0e924dd12",
     "regions": {
      "61e89d47-bf2e-44c1-af1e-939cdd9d3e2a": {
       "attrs": {
        "height": 0.8,
        "width": 0.8,
        "x": 0.1,
        "y": 0.1
       },
       "content": {
        "cell": "5afd30f4-1042-4e94-863e-eb874e73729b",
        "part": "whole"
       },
       "id": "61e89d47-bf2e-44c1-af1e-939cdd9d3e2a"
      }
     }
    },
    "e89ddb1f-0cb3-4f3d-9c4e-a4c12763abfe": {
     "id": "e89ddb1f-0cb3-4f3d-9c4e-a4c12763abfe",
     "prev": "271178f4-f397-4d55-b14e-305ecbc6aec4",
     "regions": {
      "3b82898b-6600-4aa3-b7ad-8fb2520c93d5": {
       "attrs": {
        "height": 0.8,
        "width": 0.8,
        "x": 0.1,
        "y": 0.1
       },
       "content": {
        "cell": "a9b85a9b-0633-4cd9-aab1-222f09df15d3",
        "part": "whole"
       },
       "id": "3b82898b-6600-4aa3-b7ad-8fb2520c93d5"
      }
     }
    },
    "e8aeef4d-996e-425c-b9d6-b665a4815efd": {
     "id": "e8aeef4d-996e-425c-b9d6-b665a4815efd",
     "prev": "376e8acd-692c-4179-b06d-3827df6c7c2e",
     "regions": {
      "aa261d20-de73-4608-a240-fe3eb43309ed": {
       "attrs": {
        "height": 0.8,
        "width": 0.8,
        "x": 0.1,
        "y": 0.1
       },
       "content": {
        "cell": "d5f54317-464b-41a9-b066-a9114fad9c4c",
        "part": "whole"
       },
       "id": "aa261d20-de73-4608-a240-fe3eb43309ed"
      }
     }
    },
    "ebd44fdb-b3e3-4ed3-bdd5-6b399572c4dd": {
     "id": "ebd44fdb-b3e3-4ed3-bdd5-6b399572c4dd",
     "prev": "7bdcba30-285c-49b2-a380-a1b20cd56add",
     "regions": {
      "e0b9c17f-4fdd-405c-98d6-9f5e3fb51aa4": {
       "attrs": {
        "height": 0.8,
        "width": 0.8,
        "x": 0.1,
        "y": 0.1
       },
       "content": {
        "cell": "dccb8827-1ca0-49e9-9220-455bce923728",
        "part": "whole"
       },
       "id": "e0b9c17f-4fdd-405c-98d6-9f5e3fb51aa4"
      }
     }
    },
    "f71a9548-4787-4129-8563-b940466e83d5": {
     "id": "f71a9548-4787-4129-8563-b940466e83d5",
     "prev": "bcab738a-b488-4823-9c50-e3e5004b53ea",
     "regions": {
      "036ca937-c7a4-4564-8597-024f3a7bb86d": {
       "attrs": {
        "height": 0.8,
        "width": 0.8,
        "x": 0.1,
        "y": 0.1
       },
       "content": {
        "cell": "9f84cd1f-d8f3-4056-bf74-ea77acb3b277",
        "part": "whole"
       },
       "id": "036ca937-c7a4-4564-8597-024f3a7bb86d"
      }
     }
    },
    "feee768e-3a88-49f6-93d4-afd8a8ed747e": {
     "id": "feee768e-3a88-49f6-93d4-afd8a8ed747e",
     "prev": "15f4edd6-5bc3-4f1e-8a23-f4089d6b7e4a",
     "regions": {
      "80cdb0a9-0ca4-4883-bfa1-87579b637d5e": {
       "attrs": {
        "height": 0.8,
        "width": 0.8,
        "x": 0.1,
        "y": 0.1
       },
       "content": {
        "cell": "de383966-34a6-4bd0-ad9f-57c01d9712c5",
        "part": "whole"
       },
       "id": "80cdb0a9-0ca4-4883-bfa1-87579b637d5e"
      }
     }
    },
    "ff717883-6334-4743-8898-7c038d1adab6": {
     "id": "ff717883-6334-4743-8898-7c038d1adab6",
     "prev": "3d850da8-f42b-4108-a900-e088d63b1dc8",
     "regions": {
      "9c3ce2bd-3ac3-47d6-8f39-163d1c73bb5b": {
       "attrs": {
        "height": 0.8,
        "width": 0.8,
        "x": 0.1,
        "y": 0.1
       },
       "content": {
        "cell": "a0050794-d512-4f25-ac70-6cb39f1b1d4c",
        "part": "whole"
       },
       "id": "9c3ce2bd-3ac3-47d6-8f39-163d1c73bb5b"
      }
     }
    }
   },
   "themes": {}
  }
 },
 "nbformat": 4,
 "nbformat_minor": 0
}
